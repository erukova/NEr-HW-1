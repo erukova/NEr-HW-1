{
  "nbformat": 4,
  "nbformat_minor": 0,
  "metadata": {
    "kernelspec": {
      "display_name": "Python 3 (ipykernel)",
      "language": "python",
      "name": "python3"
    },
    "language_info": {
      "codemirror_mode": {
        "name": "ipython",
        "version": 3
      },
      "file_extension": ".py",
      "mimetype": "text/x-python",
      "name": "python",
      "nbconvert_exporter": "python",
      "pygments_lexer": "ipython3",
      "version": "3.8.6"
    },
    "colab": {
      "name": "Natalia Erukova HW-2",
      "provenance": [],
      "collapsed_sections": [],
      "include_colab_link": true
    }
  },
  "cells": [
    {
      "cell_type": "markdown",
      "metadata": {
        "id": "view-in-github",
        "colab_type": "text"
      },
      "source": [
        "<a href=\"https://colab.research.google.com/github/erukova/NEr-HW-1/blob/main/Natalia_Erukova_HW_2.ipynb\" target=\"_parent\"><img src=\"https://colab.research.google.com/assets/colab-badge.svg\" alt=\"Open In Colab\"/></a>"
      ]
    },
    {
      "cell_type": "markdown",
      "metadata": {
        "id": "A3posBit_v77"
      },
      "source": [
        "# Домашнее задание №2 ( балла)\n",
        "\n",
        "## дедлайн 7 октября 18:10\n",
        "### 10 или 9 можно получить, если сдать домашнее задание полностью до 3 октября 23:59, а также верно выполнить задания со звездочками\n",
        "\n",
        "\n",
        "Цель:\n",
        "\n",
        "Отработать навыки работы с основными типами данных в Python.\n",
        "Отработать навыки работы с основными структурами данных в Python."
      ]
    },
    {
      "cell_type": "markdown",
      "metadata": {
        "id": "V3_p-c6m_v78"
      },
      "source": [
        "**NB!** Задания необходимо выполнять таким образом, что переменную/-ые можно было заменить на схожее слово/число/текст/список/и т.д., при этом задание все равно выполнялось бы верно."
      ]
    },
    {
      "cell_type": "markdown",
      "metadata": {
        "id": "5IHy3DUz_v8G"
      },
      "source": [
        "### Часть 1. Списки (16 баллов)"
      ]
    },
    {
      "cell_type": "markdown",
      "metadata": {
        "id": "LF37caBG_v8G"
      },
      "source": [
        "1. (2 балла) Пользователь вводит несколько чисел через запятую. Сделайте из этих чисел список, подсчитайте сумму элементов, среднее, максимальное и минимальное значение. Все результаты подсчетов выведите на экран"
      ]
    },
    {
      "cell_type": "code",
      "metadata": {
        "id": "z8cUvXiZYgaR",
        "colab": {
          "base_uri": "https://localhost:8080/"
        },
        "outputId": "8e03fd2a-f511-44d0-a353-b02ac909b596"
      },
      "source": [
        "x = input()\n",
        "y = [int(i) for i in x.split(\", \")]\n",
        "y = []\n",
        "for i in x.split(\", \"):\n",
        "  y.append(int(i))\n",
        "print(y)\n",
        "print(sum(y))\n",
        "print(sum(y) / len(y))\n",
        "print(max(y))\n",
        "print(min(y))"
      ],
      "execution_count": 8,
      "outputs": [
        {
          "output_type": "stream",
          "name": "stdout",
          "text": [
            "3, 5, 6, 7\n",
            "[3, 5, 6, 7]\n",
            "21\n",
            "5.25\n",
            "7\n",
            "3\n"
          ]
        }
      ]
    },
    {
      "cell_type": "markdown",
      "metadata": {
        "id": "KLUTNmQk_v8G"
      },
      "source": [
        "2. (2 балла) Даны два списка. \"Слить\" их через один (чередуя элементы то одного, то другого списка).\n",
        "\n",
        "`f = [1,2,3]`\n",
        "\n",
        "`s = ['1','2','3']`\n",
        "\n",
        "Ожидаемый результат:\n",
        "\n",
        "`[1, '1', 2, '2', 3, '3']`\n"
      ]
    },
    {
      "cell_type": "markdown",
      "metadata": {
        "id": "1be1P1k5_v8H"
      },
      "source": [
        "* _Список может быть любого размера, а ваш код все равно должен работать._\n",
        "* _можно заработать + 2 балла к заданию, если сделать его в одну строку_"
      ]
    },
    {
      "cell_type": "code",
      "metadata": {
        "id": "y1VqZ_7P_v8H",
        "colab": {
          "base_uri": "https://localhost:8080/"
        },
        "outputId": "2875c9bc-0f5a-43e3-8d90-739e83dd7d42"
      },
      "source": [
        "f = [1,2,3,4,5,6]\n",
        "s = ['1','2','3','4','5','6']\n",
        "newlist = []\n",
        "for x in range(max(len(f), len(s))):\n",
        "    if x < len(f):\n",
        "        newlist.append(f[x])\n",
        "    if x < len(s):\n",
        "        newlist.append(s[x])\n",
        "print(newlist)"
      ],
      "execution_count": 10,
      "outputs": [
        {
          "output_type": "stream",
          "name": "stdout",
          "text": [
            "[1, '1', 2, '2', 3, '3', 4, '4', 5, '5', 6, '6']\n"
          ]
        }
      ]
    },
    {
      "cell_type": "markdown",
      "metadata": {
        "id": "wAsDtE_0_v8H"
      },
      "source": [
        "3. (4 балла) Создайте следующий лист: \n",
        "\n",
        "`months = [\n",
        "'Декабрь', 'Январь', 'Февраль',\n",
        "'Март', 'Апрель', 'Май',\n",
        "'Июнь', 'Июль', 'Август',\n",
        "'Сентябрь', 'Октябрь', 'Ноябрь'\n",
        "]`. \n",
        "\n",
        "Ваша задача получить из него:\n",
        "    - все зимние месяцы\n",
        "    - все летние месяцы\n",
        "    - каждый второй месяц года начиная с Января\n",
        "    - первые месяцы каждого сезона (4),\n",
        "\n",
        "используя `slice`."
      ]
    },
    {
      "cell_type": "code",
      "metadata": {
        "colab": {
          "base_uri": "https://localhost:8080/"
        },
        "id": "_dZUXrJQEftf",
        "outputId": "3180ad62-d4c5-4266-fc75-a41e7ae7ee60"
      },
      "source": [
        "months = ['Декабрь', 'Январь', 'Февраль', 'Март', 'Апрель', 'Май', 'Июнь', 'Июль', 'Август', 'Сентябрь', 'Октябрь', 'Ноябрь' ]\n",
        "winter = months[:3]\n",
        "print(winter)\n",
        "summer = months[6:9]\n",
        "print(summer)\n",
        "each_second = months[1::2]\n",
        "print(each_second)\n",
        "first_in_seasons = months[::3]\n",
        "print(first_in_seasons)"
      ],
      "execution_count": 12,
      "outputs": [
        {
          "output_type": "stream",
          "name": "stdout",
          "text": [
            "['Декабрь', 'Январь', 'Февраль']\n",
            "['Июнь', 'Июль', 'Август']\n",
            "['Январь', 'Март', 'Май', 'Июль', 'Сентябрь', 'Ноябрь']\n",
            "['Декабрь', 'Март', 'Июнь', 'Сентябрь']\n"
          ]
        }
      ]
    },
    {
      "cell_type": "markdown",
      "metadata": {
        "id": "dyFDN1th_v8H"
      },
      "source": [
        "4. (3 балла) Создайте list \n",
        "\n",
        "`weekdays = ['Понедельник', 2, 'Cреда', 'Четверг', 5]`\n",
        "\n",
        "- Исправьте числа 2 и 5 на Вторник и Пятницу соответственно\n",
        "- Добавьте недостающие дни в конец списка\n",
        "- Посчитайте длину итогового листа"
      ]
    },
    {
      "cell_type": "code",
      "metadata": {
        "id": "mpUCmwn4_v8H",
        "colab": {
          "base_uri": "https://localhost:8080/"
        },
        "outputId": "7b5f0d64-7890-4c56-ef33-366cc06cdb18"
      },
      "source": [
        "weekdays = ['Понедельник', 2, 'Cреда', 'Четверг', 5]\n",
        "weekdays[1] = \"Вторник\"\n",
        "weekdays[4] = \"Пятница\"\n",
        "print(weekdays)\n",
        "weekdays.append(\"Суббота\")\n",
        "weekdays.append(\"Воскресенье\")\n",
        "print(weekdays)\n",
        "len(weekdays)"
      ],
      "execution_count": 13,
      "outputs": [
        {
          "output_type": "stream",
          "name": "stdout",
          "text": [
            "['Понедельник', 'Вторник', 'Cреда', 'Четверг', 'Пятница']\n",
            "['Понедельник', 'Вторник', 'Cреда', 'Четверг', 'Пятница', 'Суббота', 'Воскресенье']\n"
          ]
        },
        {
          "output_type": "execute_result",
          "data": {
            "text/plain": [
              "7"
            ]
          },
          "metadata": {},
          "execution_count": 13
        }
      ]
    },
    {
      "cell_type": "markdown",
      "metadata": {
        "id": "sX7Pyq8d_v8H"
      },
      "source": [
        "5. (3 балла) Создайте строку (str) `'йтцыу фочтмлзирчйнбою асапырйафвялгяшещшоьрскяу!й'`\n",
        "\n",
        "    - Превратите ее в лист символов\n",
        "    - Расшифруйте закодированное в ней сообщение, выбрав из всех символов только символы с **нечетным** индексом\n",
        "    - Превратите полученный лист обратно в строку и напечатайте результат\n",
        "\n",
        "**Hint** вам понадобится функция `.join()`"
      ]
    },
    {
      "cell_type": "code",
      "metadata": {
        "id": "fJozshnzC69S",
        "colab": {
          "base_uri": "https://localhost:8080/",
          "height": 56
        },
        "outputId": "c495ab3a-99de-494d-89b0-57c6a6144f24"
      },
      "source": [
        "str = 'йтцыу фочтмлзирчйнбою асапырйафвялгяшещшоьрскяу!й'\n",
        "list(str)\n",
        "b = [x for y, x in enumerate(str) if y % 2 != 0]\n",
        "print(b)\n",
        "\"\".join(b)\n"
      ],
      "execution_count": 14,
      "outputs": [
        {
          "output_type": "stream",
          "name": "stdout",
          "text": [
            "['т', 'ы', ' ', 'о', 'т', 'л', 'и', 'ч', 'н', 'о', ' ', 'с', 'п', 'р', 'а', 'в', 'л', 'я', 'е', 'ш', 'ь', 'с', 'я', '!']\n"
          ]
        },
        {
          "output_type": "execute_result",
          "data": {
            "application/vnd.google.colaboratory.intrinsic+json": {
              "type": "string"
            },
            "text/plain": [
              "'ты отлично справляешься!'"
            ]
          },
          "metadata": {},
          "execution_count": 14
        }
      ]
    },
    {
      "cell_type": "markdown",
      "metadata": {
        "id": "hI1vaX97DLgo"
      },
      "source": [
        "6. (2 балла) Дан список (придумайте любой и положите в переменную `my_list`, `input()` использовать не нужно). Проверить, содержит ли данный список повторяющиеся элементы, удалить повторяющиеся элементы (без использования `dict` и `set`)"
      ]
    },
    {
      "cell_type": "code",
      "metadata": {
        "id": "c4_1mkhp_v8H",
        "colab": {
          "base_uri": "https://localhost:8080/"
        },
        "outputId": "3d85c31b-c30e-4efb-af3f-5195f8486c7a"
      },
      "source": [
        "my_list = [\"whippet\", \"corgi\", \"greyhound\", \"collie\", \"corgi\"]\n",
        "print(my_list)\n",
        "from collections import Counter\n",
        "print([x for x,y in Counter(my_list).items() if y > 1])\n",
        "print([my_list[i] for i in range(len(my_list)) if i == my_list.index(my_list[i])])"
      ],
      "execution_count": 17,
      "outputs": [
        {
          "output_type": "stream",
          "name": "stdout",
          "text": [
            "['whippet', 'corgi', 'greyhound', 'collie', 'corgi']\n",
            "['corgi']\n",
            "['whippet', 'corgi', 'greyhound', 'collie']\n"
          ]
        }
      ]
    },
    {
      "cell_type": "markdown",
      "metadata": {
        "id": "nSJWKkvq_v8I"
      },
      "source": [
        "### Часть 2. Кортежи (3 балла)"
      ]
    },
    {
      "cell_type": "markdown",
      "metadata": {
        "id": "hFX4GTq1_v8I"
      },
      "source": [
        "29. (1 балл) Создать кортеж из одного элемента."
      ]
    },
    {
      "cell_type": "code",
      "metadata": {
        "id": "_qcdWtzz_v8I",
        "colab": {
          "base_uri": "https://localhost:8080/"
        },
        "outputId": "25cfc879-3668-4634-bc15-06c27c0f9ab7"
      },
      "source": [
        "t = (\"meow\")\n",
        "print(t)"
      ],
      "execution_count": 19,
      "outputs": [
        {
          "output_type": "stream",
          "name": "stdout",
          "text": [
            "meow\n"
          ]
        }
      ]
    },
    {
      "cell_type": "markdown",
      "metadata": {
        "id": "WFrsJtZr_v8I"
      },
      "source": [
        "30. (1 балл) Создайте кортеж из списка, напечатайте его.\n",
        "\n",
        "`months = [\n",
        "'Январь', 'Февраль',\n",
        "'Март', 'Апрель', 'Май',\n",
        "'Июнь', 'Июль', 'Август',\n",
        "'Сентябрь', 'Октябрь', 'Ноябрь'\n",
        "]`"
      ]
    },
    {
      "cell_type": "code",
      "metadata": {
        "id": "1zL4nMN4_v8I",
        "colab": {
          "base_uri": "https://localhost:8080/"
        },
        "outputId": "95f3e867-16ca-4e1b-c56b-d0b988958dc3"
      },
      "source": [
        "months = ['Январь', 'Февраль', 'Март', 'Апрель', 'Май', 'Июнь', 'Июль', 'Август', 'Сентябрь', 'Октябрь', 'Ноябрь']\n",
        "x = tuple(months)\n",
        "print(x)"
      ],
      "execution_count": 20,
      "outputs": [
        {
          "output_type": "stream",
          "name": "stdout",
          "text": [
            "('Январь', 'Февраль', 'Март', 'Апрель', 'Май', 'Июнь', 'Июль', 'Август', 'Сентябрь', 'Октябрь', 'Ноябрь')\n"
          ]
        }
      ]
    },
    {
      "cell_type": "markdown",
      "metadata": {
        "id": "iGn7e0Ow_v8I"
      },
      "source": [
        "31. (1 балл) Добавьте недостающий месяц (на выходе ожидается кортеж)"
      ]
    },
    {
      "cell_type": "code",
      "metadata": {
        "colab": {
          "base_uri": "https://localhost:8080/"
        },
        "id": "7Q5NvH9KD0ES",
        "outputId": "0bd89ddc-cd4f-46ce-f3a4-b150ee923357"
      },
      "source": [
        "y = x + tuple([\"Декабрь\"])\n",
        "print(y)"
      ],
      "execution_count": 21,
      "outputs": [
        {
          "output_type": "stream",
          "name": "stdout",
          "text": [
            "('Январь', 'Февраль', 'Март', 'Апрель', 'Май', 'Июнь', 'Июль', 'Август', 'Сентябрь', 'Октябрь', 'Ноябрь', 'Декабрь')\n"
          ]
        }
      ]
    },
    {
      "cell_type": "markdown",
      "metadata": {
        "id": "netCKvWK_v8I"
      },
      "source": [
        "### Часть 3. Сеты (4 балла)"
      ]
    },
    {
      "cell_type": "markdown",
      "metadata": {
        "id": "vmpZWO8Z_v8I"
      },
      "source": [
        "32. (1 балл) Посчитать, сколько различных букв в слове 'превысокомногорассмотрительствующий'"
      ]
    },
    {
      "cell_type": "code",
      "metadata": {
        "id": "IUBHgO78_v8J",
        "colab": {
          "base_uri": "https://localhost:8080/"
        },
        "outputId": "8d26129d-800a-4b7c-db63-add1cde927f0"
      },
      "source": [
        "a = \"превысокомногорассмотрительствующий\"\n",
        "b = set(a)\n",
        "print((b), len(b))"
      ],
      "execution_count": 22,
      "outputs": [
        {
          "output_type": "stream",
          "name": "stdout",
          "text": [
            "{'р', 'л', 'к', 'с', 'щ', 'м', 'ь', 'н', 'ю', 'у', 'т', 'о', 'г', 'е', 'в', 'п', 'а', 'й', 'и', 'ы'} 20\n"
          ]
        }
      ]
    },
    {
      "cell_type": "markdown",
      "metadata": {
        "id": "EtPaMLQO_v8J"
      },
      "source": [
        "33. (1 балл) Какие различные буквы имеют слова \"превысокомногорассмотрительствующий\" и \"водогрязеторфопарафинолечение\"?"
      ]
    },
    {
      "cell_type": "code",
      "metadata": {
        "id": "dwIdysLu_v8J",
        "colab": {
          "base_uri": "https://localhost:8080/"
        },
        "outputId": "a2f24c7c-462b-483c-8925-2f2344d8c3b2"
      },
      "source": [
        "b = set(\"превысокомногорассмотрительствующий\")\n",
        "c = set(\"водогрязеторфопарафинолечение\")\n",
        "result = list((set(\"превысокомногорассмотрительствующий\")) ^ (set(\"водогрязеторфопарафинолечение\")))\n",
        "print(result)\n"
      ],
      "execution_count": 23,
      "outputs": [
        {
          "output_type": "stream",
          "name": "stdout",
          "text": [
            "['ч', 'з', 'ы', 'к', 'с', 'ф', 'щ', 'й', 'м', 'ь', 'я', 'ю', 'д', 'у']\n"
          ]
        }
      ]
    },
    {
      "cell_type": "markdown",
      "metadata": {
        "id": "UQxsVL3w_v8J"
      },
      "source": [
        "34. (1 балл) Какие общие буквы имеют слова \"превысокомногорассмотрительствующий\" и \"водогрязеторфопарафинолечение\"?"
      ]
    },
    {
      "cell_type": "code",
      "metadata": {
        "id": "unSFfV_a_v8J",
        "colab": {
          "base_uri": "https://localhost:8080/"
        },
        "outputId": "3204c0c3-4b4d-4b16-e227-f09b5a72ffb1"
      },
      "source": [
        "b.intersection(c)"
      ],
      "execution_count": 24,
      "outputs": [
        {
          "output_type": "execute_result",
          "data": {
            "text/plain": [
              "{'а', 'в', 'г', 'е', 'и', 'л', 'н', 'о', 'п', 'р', 'т'}"
            ]
          },
          "metadata": {},
          "execution_count": 24
        }
      ]
    },
    {
      "cell_type": "markdown",
      "metadata": {
        "id": "GauGi3oF_v8J"
      },
      "source": [
        "35. (1 балл) Есть ли буквы в слове \"превысокомногорассмотрительствующий\", которых нет в слове \"водогрязеторфопарафинолечение\"? А наоборот?"
      ]
    },
    {
      "cell_type": "code",
      "metadata": {
        "id": "TfTtSHFY_v8J",
        "colab": {
          "base_uri": "https://localhost:8080/"
        },
        "outputId": "ba4a8f80-7848-4336-f303-48df7614a0b2"
      },
      "source": [
        "print(b - c)\n",
        "print(c - b)"
      ],
      "execution_count": 25,
      "outputs": [
        {
          "output_type": "stream",
          "name": "stdout",
          "text": [
            "{'й', 'ь', 'м', 'ы', 'к', 'ю', 'с', 'у', 'щ'}\n",
            "{'ч', 'я', 'з', 'д', 'ф'}\n"
          ]
        }
      ]
    },
    {
      "cell_type": "markdown",
      "metadata": {
        "id": "E2sczfkn_v8J"
      },
      "source": [
        "### Часть 6. Словари и полезные вещи (10 баллов)"
      ]
    },
    {
      "cell_type": "markdown",
      "metadata": {
        "id": "VxZ4E8JhEHxD"
      },
      "source": [
        "Дан текст. Текст приведен к начальной форме уже за вас (мы это научимся делать на следующем занятии).\n",
        "```\n",
        "1. DJ Khaled замутить трек, в который читать только Drake. \n",
        "2. Drake организовывать на этот песня очень крутой клип, в который вместо он сниматься только джастин бибер.\n",
        "\n",
        "видимо, награда за весь это быть получать леонардо дикаприо 😅\n",
        "\n",
        "в клип джастин, кстати, выглядеть очень бодрый и наконец выздоравливать от болезнь и депрессия.\n",
        "отдельный прикол в то, что он там «читать» строчка про свой бывший девушка селен гомес, про себя сам и про то, насколько дрейк - крутой они все и взрывать индустрия 😂🤟\n",
        "```"
      ]
    },
    {
      "cell_type": "markdown",
      "metadata": {
        "id": "hGBIV3hS_v8K"
      },
      "source": [
        "36. (1 балл) Запишите его в переменную. Обратите внимание, что текст многострочный -- переносы строки нужно сохранить!"
      ]
    },
    {
      "cell_type": "code",
      "metadata": {
        "id": "BLB2YgyY_v8K"
      },
      "source": [
        "text = \"\"\"1. DJ Khaled замутить трек, в который читать только Drake. \n",
        "2. Drake организовывать на этот песня очень крутой клип, в который вместо он сниматься только джастин бибер.\n",
        "\n",
        "видимо, награда за весь это быть получать леонардо дикаприо 😅\n",
        "\n",
        "в клип джастин, кстати, выглядеть очень бодрый и наконец выздоравливать от болезнь и депрессия.\n",
        "отдельный прикол в то, что он там «читать» строчка про свой бывший девушка селен гомес, про себя сам и про то, насколько дрейк - крутой они все и взрывать индустрия 😂🤟\"\"\""
      ],
      "execution_count": 26,
      "outputs": []
    },
    {
      "cell_type": "markdown",
      "metadata": {
        "id": "Z2529Ids_v8K"
      },
      "source": [
        "37. (1 балл) Разделите текст на предложения (используя `\"\\n\"`) "
      ]
    },
    {
      "cell_type": "code",
      "metadata": {
        "id": "DWR1Ckig_v8K",
        "colab": {
          "base_uri": "https://localhost:8080/"
        },
        "outputId": "b93a6063-24d6-4694-bf96-b3da42b7627c"
      },
      "source": [
        "sentences = text.split(\"\\n\")\n",
        "print(sentences)"
      ],
      "execution_count": 27,
      "outputs": [
        {
          "output_type": "stream",
          "name": "stdout",
          "text": [
            "['1. DJ Khaled замутить трек, в который читать только Drake. ', '2. Drake организовывать на этот песня очень крутой клип, в который вместо он сниматься только джастин бибер.', '', 'видимо, награда за весь это быть получать леонардо дикаприо 😅', '', 'в клип джастин, кстати, выглядеть очень бодрый и наконец выздоравливать от болезнь и депрессия.', 'отдельный прикол в то, что он там «читать» строчка про свой бывший девушка селен гомес, про себя сам и про то, насколько дрейк - крутой они все и взрывать индустрия 😂🤟']\n"
          ]
        }
      ]
    },
    {
      "cell_type": "markdown",
      "metadata": {
        "id": "pa1_7zAS_v8K"
      },
      "source": [
        "38. (2 балла) Разделите предложения на слова, удалите пунктуацию до и после слов, используя `.strip()`. И кавычки тоже удалите."
      ]
    },
    {
      "cell_type": "code",
      "metadata": {
        "id": "Fj0ZPwO1_v8K",
        "colab": {
          "base_uri": "https://localhost:8080/"
        },
        "outputId": "d8982e67-f296-4c9e-d8fb-a32896d4193d"
      },
      "source": [
        "from string import punctuation\n",
        "punct = \"12,.«»'' \\n-\"\n",
        "sentences_with_words = []\n",
        "for sentence in sentences:\n",
        "  sentences_with_words.append([i.strip(punct) for i in sentence.split()])\n",
        "sentences_with_words"
      ],
      "execution_count": 55,
      "outputs": [
        {
          "output_type": "execute_result",
          "data": {
            "text/plain": [
              "[['',\n",
              "  'DJ',\n",
              "  'Khaled',\n",
              "  'замутить',\n",
              "  'трек',\n",
              "  'в',\n",
              "  'который',\n",
              "  'читать',\n",
              "  'только',\n",
              "  'Drake'],\n",
              " ['',\n",
              "  'Drake',\n",
              "  'организовывать',\n",
              "  'на',\n",
              "  'этот',\n",
              "  'песня',\n",
              "  'очень',\n",
              "  'крутой',\n",
              "  'клип',\n",
              "  'в',\n",
              "  'который',\n",
              "  'вместо',\n",
              "  'он',\n",
              "  'сниматься',\n",
              "  'только',\n",
              "  'джастин',\n",
              "  'бибер'],\n",
              " [],\n",
              " ['видимо',\n",
              "  'награда',\n",
              "  'за',\n",
              "  'весь',\n",
              "  'это',\n",
              "  'быть',\n",
              "  'получать',\n",
              "  'леонардо',\n",
              "  'дикаприо',\n",
              "  '😅'],\n",
              " [],\n",
              " ['в',\n",
              "  'клип',\n",
              "  'джастин',\n",
              "  'кстати',\n",
              "  'выглядеть',\n",
              "  'очень',\n",
              "  'бодрый',\n",
              "  'и',\n",
              "  'наконец',\n",
              "  'выздоравливать',\n",
              "  'от',\n",
              "  'болезнь',\n",
              "  'и',\n",
              "  'депрессия'],\n",
              " ['отдельный',\n",
              "  'прикол',\n",
              "  'в',\n",
              "  'то',\n",
              "  'что',\n",
              "  'он',\n",
              "  'там',\n",
              "  'читать',\n",
              "  'строчка',\n",
              "  'про',\n",
              "  'свой',\n",
              "  'бывший',\n",
              "  'девушка',\n",
              "  'селен',\n",
              "  'гомес',\n",
              "  'про',\n",
              "  'себя',\n",
              "  'сам',\n",
              "  'и',\n",
              "  'про',\n",
              "  'то',\n",
              "  'насколько',\n",
              "  'дрейк',\n",
              "  '',\n",
              "  'крутой',\n",
              "  'они',\n",
              "  'все',\n",
              "  'и',\n",
              "  'взрывать',\n",
              "  'индустрия',\n",
              "  '😂🤟']]"
            ]
          },
          "metadata": {},
          "execution_count": 55
        }
      ]
    },
    {
      "cell_type": "markdown",
      "metadata": {
        "id": "H6JJW1GH_v8K"
      },
      "source": [
        "39. (2 балла) Создайте словарь, в котором ключ -- слово из текста, а значение -- количество раз, сколько оно встречается во всем тексте.\n",
        "\n",
        "например:\n",
        "\n",
        "`dct = {\"go\": 1, \"went\": 2, \"gone\": 3}`\n",
        "\n",
        "Напечатайте словарь"
      ]
    },
    {
      "cell_type": "code",
      "metadata": {
        "id": "cy5_T8yM_v8L",
        "colab": {
          "base_uri": "https://localhost:8080/"
        },
        "outputId": "5047046f-9f95-490c-b064-76b1d5904220"
      },
      "source": [
        "print(text.count(\"джастин\"))\n",
        "print(text.count(\"он\"))\n",
        "print(text.count(\"очень\"))\n",
        "dictionery = {\"джастин\": 2, \"он\": 5, \"очень\": 2}\n",
        "print(dictionery)"
      ],
      "execution_count": 29,
      "outputs": [
        {
          "output_type": "stream",
          "name": "stdout",
          "text": [
            "2\n",
            "5\n",
            "2\n",
            "{'джастин': 2, 'он': 5, 'очень': 2}\n"
          ]
        }
      ]
    },
    {
      "cell_type": "markdown",
      "metadata": {
        "id": "lCKeMfMY_v8L"
      },
      "source": [
        "40. (2 балла) Напечатайте слова, встречающиеся более 1 раза в формате `\"слово кол-во раз\"` через пробел.\n",
        "\n",
        "    * Если сможете напечатать в порядке убывания (от большего к меньшему) + 2 балла"
      ]
    },
    {
      "cell_type": "markdown",
      "metadata": {
        "id": "6mEkbtQk_v8M"
      },
      "source": [
        "41. (2 балла) Пользователь вводит с клавиатуры какое-нибудь слово.\n",
        "Проверяем, есть ли слово в массиве: если нет, добавляем его туда и печатаем \"Слово X добавлено\", а если есть, то печатаем ответ \"Слово X в тексте N раз\"."
      ]
    },
    {
      "cell_type": "markdown",
      "metadata": {
        "id": "YTZ_hhhBFasx"
      },
      "source": [
        "## Задания со звездочкой (9 или 10 можно получить, решив эти задания)"
      ]
    },
    {
      "cell_type": "markdown",
      "metadata": {
        "id": "159FPHDYFpk1"
      },
      "source": [
        "42. По заданному n вывести левосторонний треугольник из следующих цифр:\n"
      ]
    },
    {
      "cell_type": "code",
      "metadata": {
        "id": "KqJoZEUIFaEd",
        "colab": {
          "base_uri": "https://localhost:8080/"
        },
        "outputId": "ebf136d2-887c-4d62-f32d-776d8f39a42c"
      },
      "source": [
        "n = 10\n",
        "previous = []\n",
        "for i in range(n):\n",
        "  print(previous, i)\n",
        "  previous.append(i)\n"
      ],
      "execution_count": 12,
      "outputs": [
        {
          "output_type": "stream",
          "name": "stdout",
          "text": [
            "[] 0\n",
            "[0] 1\n",
            "[0, 1] 2\n",
            "[0, 1, 2] 3\n",
            "[0, 1, 2, 3] 4\n",
            "[0, 1, 2, 3, 4] 5\n",
            "[0, 1, 2, 3, 4, 5] 6\n",
            "[0, 1, 2, 3, 4, 5, 6] 7\n",
            "[0, 1, 2, 3, 4, 5, 6, 7] 8\n",
            "[0, 1, 2, 3, 4, 5, 6, 7, 8] 9\n"
          ]
        }
      ]
    },
    {
      "cell_type": "markdown",
      "metadata": {
        "id": "-9rUNF4-Fofe"
      },
      "source": [
        "43. По заданному n вывести перевернутый правосторонний треугольник из следующих цифр"
      ]
    },
    {
      "cell_type": "code",
      "metadata": {
        "colab": {
          "base_uri": "https://localhost:8080/"
        },
        "id": "Sa7ZDOa-Fm7O",
        "outputId": "266a5a61-76e5-4dd7-de68-35d3b874eb99"
      },
      "source": [
        "#your code here"
      ],
      "execution_count": null,
      "outputs": [
        {
          "output_type": "stream",
          "name": "stdout",
          "text": [
            "0 1 2 3 4 5 6 7 8 9\n",
            "  0 1 2 3 4 5 6 7 8\n",
            "    0 1 2 3 4 5 6 7\n",
            "      0 1 2 3 4 5 6\n",
            "        0 1 2 3 4 5\n",
            "          0 1 2 3 4\n",
            "            0 1 2 3\n",
            "              0 1 2\n",
            "                0 1\n",
            "                  0\n"
          ]
        }
      ]
    },
    {
      "cell_type": "markdown",
      "metadata": {
        "id": "y1BSSdWe_v8N"
      },
      "source": [
        "#### Напишите ниже вашу обратную связь по домашнему заданию в комментарии. \n",
        "\n",
        "#### Какие задания показались вам самыми сложными / простыми? Что понравилось, а что нет?"
      ]
    },
    {
      "cell_type": "code",
      "metadata": {
        "id": "xciAjxQG_v8N"
      },
      "source": [
        ""
      ],
      "execution_count": null,
      "outputs": []
    }
  ]
}