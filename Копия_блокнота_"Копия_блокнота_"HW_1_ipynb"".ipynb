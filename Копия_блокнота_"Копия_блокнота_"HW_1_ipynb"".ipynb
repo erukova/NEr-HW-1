{
  "nbformat": 4,
  "nbformat_minor": 0,
  "metadata": {
    "kernelspec": {
      "display_name": "Python 3 (ipykernel)",
      "language": "python",
      "name": "python3"
    },
    "language_info": {
      "codemirror_mode": {
        "name": "ipython",
        "version": 3
      },
      "file_extension": ".py",
      "mimetype": "text/x-python",
      "name": "python",
      "nbconvert_exporter": "python",
      "pygments_lexer": "ipython3",
      "version": "3.8.6"
    },
    "colab": {
      "name": "Копия блокнота \"Копия блокнота \"HW-1.ipynb\"\"",
      "provenance": [],
      "collapsed_sections": [],
      "include_colab_link": true
    }
  },
  "cells": [
    {
      "cell_type": "markdown",
      "metadata": {
        "id": "view-in-github",
        "colab_type": "text"
      },
      "source": [
        "<a href=\"https://colab.research.google.com/github/erukova/NEr-HW-1/blob/main/%D0%9A%D0%BE%D0%BF%D0%B8%D1%8F_%D0%B1%D0%BB%D0%BE%D0%BA%D0%BD%D0%BE%D1%82%D0%B0_%22%D0%9A%D0%BE%D0%BF%D0%B8%D1%8F_%D0%B1%D0%BB%D0%BE%D0%BA%D0%BD%D0%BE%D1%82%D0%B0_%22HW_1_ipynb%22%22.ipynb\" target=\"_parent\"><img src=\"https://colab.research.google.com/assets/colab-badge.svg\" alt=\"Open In Colab\"/></a>"
      ]
    },
    {
      "cell_type": "markdown",
      "metadata": {
        "id": "1BZBCk5mmB-0"
      },
      "source": [
        "# Домашнее задание №1 (25 баллов)\n",
        "\n",
        "## дедлайн 19 сентября 23:59\n",
        "\n",
        "\n",
        "\n",
        "Цель:\n",
        "\n",
        "Отработать навыки работы с основными типами данных в Python."
      ]
    },
    {
      "cell_type": "markdown",
      "metadata": {
        "id": "LZn14yIamB-4"
      },
      "source": [
        "**NB!** Задания необходимо выполнять таким образом, что переменную/-ые можно было заменить на схожее слово/число/текст/список/и т.д., при этом задание все равно выполнялось бы верно."
      ]
    },
    {
      "cell_type": "markdown",
      "metadata": {
        "id": "rXWlFw-wmB-5"
      },
      "source": [
        "_Оценку 9 или 10 можно получить, если выполнить домашнее задание до 16 сентября 18:10 (бонусное задание в т.ч.)_"
      ]
    },
    {
      "cell_type": "markdown",
      "metadata": {
        "id": "Zz7zK33DmB-6"
      },
      "source": [
        "### Часть 1. Переменные, арифметические операции (7 баллов)"
      ]
    },
    {
      "cell_type": "markdown",
      "metadata": {
        "id": "-p1ThRvGmB-7"
      },
      "source": [
        "1. (1 балл) Создайте две переменные $a$ и $b$ и присвойте им значение $91$ и $-12$, соответственно.\n",
        "Какой тип имеют эти переменные?"
      ]
    },
    {
      "cell_type": "code",
      "metadata": {
        "id": "pEXH413VmB-7",
        "colab": {
          "base_uri": "https://localhost:8080/"
        },
        "outputId": "69010fd7-567b-4acb-9e42-551e5a5d8ea5"
      },
      "source": [
        "a = 91\n",
        "b = -12\n",
        "print(type(a))\n",
        "print(type(b))\n",
        "\n"
      ],
      "execution_count": null,
      "outputs": [
        {
          "output_type": "stream",
          "name": "stdout",
          "text": [
            "<class 'int'>\n",
            "<class 'int'>\n"
          ]
        }
      ]
    },
    {
      "cell_type": "markdown",
      "metadata": {
        "id": "7uvknJ4xmB-9"
      },
      "source": [
        "2. (1 балл) Посчитайте:\n",
        "\n",
        "    * разность a - b\n",
        "\n",
        "    * сумму a + b"
      ]
    },
    {
      "cell_type": "code",
      "metadata": {
        "id": "opg4FgsCmB--",
        "colab": {
          "base_uri": "https://localhost:8080/"
        },
        "outputId": "04e7b2da-ddc8-4db2-dd53-5f6da1a2d7c7"
      },
      "source": [
        "print(a-b)\n",
        "print(a+b)\n"
      ],
      "execution_count": null,
      "outputs": [
        {
          "output_type": "stream",
          "name": "stdout",
          "text": [
            "103\n",
            "79\n"
          ]
        }
      ]
    },
    {
      "cell_type": "markdown",
      "metadata": {
        "id": "FLU2CwhwmB-_"
      },
      "source": [
        "3. (1 балл) Вводится целое неотрицательное число $N$. Выведите $2$ в степени $N$."
      ]
    },
    {
      "cell_type": "code",
      "metadata": {
        "id": "8vymxnC6mB_B",
        "colab": {
          "base_uri": "https://localhost:8080/"
        },
        "outputId": "13bee94c-d007-439b-fa3a-9dedb2fda256"
      },
      "source": [
        "N = 105\n",
        "print(2**N)\n"
      ],
      "execution_count": null,
      "outputs": [
        {
          "output_type": "stream",
          "name": "stdout",
          "text": [
            "40564819207303340847894502572032\n"
          ]
        }
      ]
    },
    {
      "cell_type": "markdown",
      "metadata": {
        "id": "lDcZPjHHmB_B"
      },
      "source": [
        "4. (1 балл) Пётр Иванович хочет испечь большую печеньку. У него есть форма для выпечки диаметром $45$ сантиметров и высотой $5$ сантиметров. Посчитайте, какого объема будет печенька Петра Ивановича. Результат положите в переменную `area_of_circle`"
      ]
    },
    {
      "cell_type": "code",
      "metadata": {
        "id": "qv8YxoZomB_B",
        "colab": {
          "base_uri": "https://localhost:8080/"
        },
        "outputId": "b24b4c79-c0d0-4557-a281-1de88acfa04b"
      },
      "source": [
        "import math\n",
        "math.pi\n",
        "d = 45\n",
        "r = d/2\n",
        "h = 5\n",
        "area_of_circle = math.pi*(r**2)*h\n",
        "print(area_of_circle)\n"
      ],
      "execution_count": null,
      "outputs": [
        {
          "output_type": "stream",
          "name": "stdout",
          "text": [
            "7952.156404399164\n"
          ]
        }
      ]
    },
    {
      "cell_type": "code",
      "metadata": {
        "id": "mw1EdapYjG5R"
      },
      "source": [
        ""
      ],
      "execution_count": null,
      "outputs": []
    },
    {
      "cell_type": "markdown",
      "metadata": {
        "id": "Kd1PBPY3mB_C"
      },
      "source": [
        "5. (1 балл) Белочки делят между собой орешки. Если орешки поровну не делятся, остаток остается в дупле. Напишите программу, которая принимает количество белочек и орешков, а на выходе дает число орешков, которое получит каждая белочка."
      ]
    },
    {
      "cell_type": "code",
      "metadata": {
        "id": "r6WzKLwHmB_C",
        "colab": {
          "base_uri": "https://localhost:8080/"
        },
        "outputId": "b8b80a17-ce70-4406-aae9-c1eb3b140eec"
      },
      "source": [
        "x = int(input(\"squirrels \"))\n",
        "y = int(input(\"nuts \"))\n",
        "y//x\n"
      ],
      "execution_count": null,
      "outputs": [
        {
          "name": "stdout",
          "output_type": "stream",
          "text": [
            "squirrels 34\n",
            "nuts 116\n"
          ]
        },
        {
          "output_type": "execute_result",
          "data": {
            "text/plain": [
              "3"
            ]
          },
          "metadata": {},
          "execution_count": 4
        }
      ]
    },
    {
      "cell_type": "markdown",
      "metadata": {
        "id": "Y6jGfqvHmB_D"
      },
      "source": [
        "6. (1 балл) Напишите программу, которая считывает два целых числа $a$ и $b$ и выводит наибольшее значение из них (без использования условий)."
      ]
    },
    {
      "cell_type": "code",
      "metadata": {
        "id": "b23VAe67mB_D",
        "colab": {
          "base_uri": "https://localhost:8080/"
        },
        "outputId": "8c0afec3-89c0-4a70-892e-fc3a865dc9b1"
      },
      "source": [
        "a = int(input())\n",
        "b = int(input())\n",
        "max([a], [b])\n",
        "\n"
      ],
      "execution_count": 30,
      "outputs": [
        {
          "name": "stdout",
          "output_type": "stream",
          "text": [
            "67\n",
            "76\n"
          ]
        },
        {
          "output_type": "execute_result",
          "data": {
            "text/plain": [
              "[76]"
            ]
          },
          "metadata": {},
          "execution_count": 30
        }
      ]
    },
    {
      "cell_type": "markdown",
      "metadata": {
        "id": "zWtzW4jDmB_D"
      },
      "source": [
        "7. (1 балла) Получите с помощью функции `input()` строку с числом и приведите число в тип `float`. Полученное число присвойте переменной `float_number`"
      ]
    },
    {
      "cell_type": "code",
      "metadata": {
        "id": "eWjtF4OtmB_D",
        "colab": {
          "base_uri": "https://localhost:8080/"
        },
        "outputId": "7f01a2a2-730a-43d4-c706-cea312de49a1"
      },
      "source": [
        "x =  input()\n",
        "float_number = float(x)\n",
        "print(float_number)"
      ],
      "execution_count": null,
      "outputs": [
        {
          "output_type": "stream",
          "name": "stdout",
          "text": [
            "56\n",
            "56.0\n"
          ]
        }
      ]
    },
    {
      "cell_type": "markdown",
      "metadata": {
        "id": "5fQg1mzemB_E"
      },
      "source": [
        "### Часть 2. Строки (5 баллов)"
      ]
    },
    {
      "cell_type": "markdown",
      "metadata": {
        "id": "S8061OxKmB_E"
      },
      "source": [
        "8. (1 балл) Используйте на переменную со значением hello методы строк:\n",
        "\n",
        "`.capitalize()`\n",
        "\n",
        "`.lower()`\n",
        "\n",
        "`.upper()`\n",
        "\n",
        "Опишите что они делают в комментарии (пишите ответ как комментарий к пустой строке)"
      ]
    },
    {
      "cell_type": "code",
      "metadata": {
        "id": "m1gi2raAmB_E",
        "colab": {
          "base_uri": "https://localhost:8080/"
        },
        "outputId": "f469728f-d783-417d-c4c4-9f9f91a50896"
      },
      "source": [
        "g = \"hello\"\n",
        "print(g.capitalize())\n",
        "print(g.lower())\n",
        "print(g.upper())\n",
        "#capitalize переводит первую букву слова в верхний регистр\n",
        "#lower переводит все слово из верхнего регистра в нижний\n",
        "#upper переводит все слово из нижнего регистра в верхний\n"
      ],
      "execution_count": null,
      "outputs": [
        {
          "output_type": "stream",
          "name": "stdout",
          "text": [
            "Hello\n",
            "hello\n",
            "HELLO\n"
          ]
        }
      ]
    },
    {
      "cell_type": "markdown",
      "metadata": {
        "id": "BdWRgXKpmB_F"
      },
      "source": [
        "9. (1 балл) Создайте две переменные типа `str` (строка) со значениями hello и world (например s1 и s2). Сложите их и напечатайте результат."
      ]
    },
    {
      "cell_type": "code",
      "metadata": {
        "id": "YJhjtMwBmB_F",
        "colab": {
          "base_uri": "https://localhost:8080/"
        },
        "outputId": "a1fd309e-9b28-44cd-b93e-451ee44b5b8f"
      },
      "source": [
        "s1 = 'hello, '\n",
        "s2 = 'world!'\n",
        "print(s1 + s2)\n"
      ],
      "execution_count": null,
      "outputs": [
        {
          "output_type": "stream",
          "name": "stdout",
          "text": [
            "hello, world!\n"
          ]
        }
      ]
    },
    {
      "cell_type": "markdown",
      "metadata": {
        "id": "SA3QW6AGmB_F"
      },
      "source": [
        "10. (1 балл)\n",
        "\n",
        "    - Воспользуйтесь функцией `len()` для того чтобы посчитать длину (количество **символов**) детской песни Солнечный круг \n",
        "    - Посчитайте длину (количество символов) в песне Let it be\n",
        "    - Какая из песен длиннее и на сколько **символов**?\n",
        "\n",
        "_Hint: тексты обеих песен приведены ниже._\n",
        "\n",
        "_Hint 2: `len()` это не метод, а функция_"
      ]
    },
    {
      "cell_type": "code",
      "metadata": {
        "id": "5-uezdnhmB_F"
      },
      "source": [
        "sun_circle  = '''Солнечный круг, небо вокруг\n",
        "Это рисунок мальчишки\n",
        "Нарисовал он на листке\n",
        "И подписал в уголке\n",
        "Пусть всегда будет солнце\n",
        "Пусть всегда будет небо\n",
        "Пусть всегда будет мама\n",
        "Пусть всегда буду я\n",
        "Пусть всегда будет солнце\n",
        "Пусть всегда будет небо\n",
        "Пусть всегда будет мама\n",
        "Пусть всегда буду я\n",
        "Милый мой друг, добрый мой друг\n",
        "Людям так хочется мира\n",
        "И в тридцать пять сердце опять\n",
        "Не устаёт повторять\n",
        "Пусть всегда будет солнце\n",
        "Пусть всегда будет небо\n",
        "Пусть всегда будет мама\n",
        "Пусть всегда буду я\n",
        "Пусть всегда будет солнце\n",
        "Пусть всегда будет небо\n",
        "Пусть всегда будет мама\n",
        "Пусть всегда буду я\n",
        "Тише солдат, слышишь солдат\n",
        "Люди пугаются взрывов\n",
        "Тысячи глаз в небо глядят\n",
        "Губы упрямо твердят\n",
        "Пусть всегда будет солнце\n",
        "Пусть всегда будет небо\n",
        "Пусть всегда будет мама\n",
        "Пусть всегда буду я\n",
        "Пусть всегда будет солнце\n",
        "Пусть всегда будет небо\n",
        "Пусть всегда будет мама\n",
        "Пусть всегда буду я\n",
        "Против беды, против войны\n",
        "Станем за наших мальчишек\n",
        "Солнце навек, счастье навек\n",
        "Так повелел человек\n",
        "Пусть всегда будет солнце\n",
        "Пусть всегда будет небо\n",
        "Пусть всегда будет мама\n",
        "Пусть всегда буду я\n",
        "Пусть всегда будет солнце\n",
        "Пусть всегда будет небо\n",
        "Пусть всегда будет мама\n",
        "Пусть всегда буду я'''\n",
        "\n",
        "\n",
        "let_it_be = '''\n",
        "When I find myself in times of trouble, Mother Mary comes to me\n",
        "Speaking words of wisdom, let it be\n",
        "And in my hour of darkness she is standing right in front of me\n",
        "Speaking words of wisdom, let it be\n",
        "Let it be, let it be, let it be, let it be\n",
        "Whisper words of wisdom, let it be\n",
        "And when the broken-hearted people living in the world agree\n",
        "There will be an answer, let it be\n",
        "For though they may be parted, there is still a chance that they will see\n",
        "There will be an answer, let it be\n",
        "Let it be, let it be, let it be, let it be\n",
        "Yeah, there will be an answer, let it be\n",
        "Let it be, let it be, let it be, let it be\n",
        "Whisper words of wisdom, let it be\n",
        "Let it be, let it be, let it be, yeah, let it be\n",
        "Whisper words of wisdom, let it be\n",
        "And when the night is cloudy there is still a light that shines on me\n",
        "Shine until tomorrow, let it be\n",
        "I wake up to the sound of music, Mother Mary comes to me\n",
        "Speaking words of wisdom, let it be\n",
        "Let it be, let it be, let it be, yeah, let it be\n",
        "There will be an answer, let it be\n",
        "Let it be, let it be, let it be, yeah, let it be\n",
        "There will be an answer, let it be\n",
        "Let it be, let it be, let it be, yeah, let it be\n",
        "Whisper words of wisdom, let it be\n",
        "'''"
      ],
      "execution_count": 2,
      "outputs": []
    },
    {
      "cell_type": "code",
      "metadata": {
        "id": "efgy27aOmB_G",
        "colab": {
          "base_uri": "https://localhost:8080/"
        },
        "outputId": "e2dabeed-cffb-44ac-f454-f726cc09745c"
      },
      "source": [
        "soviet = len(sun_circle)\n",
        "uk = len(let_it_be)\n",
        "print(soviet)\n",
        "print(uk)\n",
        "difference = soviet - uk\n",
        "print(abs(difference))\n",
        "if soviet > uk:\n",
        "  print(\"Длиннее Солнечный круг\")\n",
        "else:\n",
        "  print(\"Длиннее Let it be\")\n"
      ],
      "execution_count": 31,
      "outputs": [
        {
          "output_type": "stream",
          "name": "stdout",
          "text": [
            "1146\n",
            "1177\n",
            "31\n",
            "Длиннее Let it be\n"
          ]
        }
      ]
    },
    {
      "cell_type": "markdown",
      "metadata": {
        "id": "TMfNQBnimB_H"
      },
      "source": [
        "11. (2 балла)\n",
        "\n",
        "    - Чего больше: слов \"Пусть всегда\" в детской песне или слов \"Let it be\" в песне ливерпульской четверки?\n",
        "\n",
        "*Hint: Воспользуйтесь методом `.count()`*\n",
        "\n",
        "*Hint 2: Слова \"Let it be\" встречаются в песне как с заглавной, так и со строчной буквы, учтите это при подсчете*"
      ]
    },
    {
      "cell_type": "code",
      "metadata": {
        "id": "M20HoMm_mB_H",
        "colab": {
          "base_uri": "https://localhost:8080/"
        },
        "outputId": "f72a8b11-c3d8-4a30-dffb-74aee51dfbde"
      },
      "source": [
        "liverpool_song = ((let_it_be.count('let it be')) + (let_it_be.count('Let it be')))\n",
        "kids_song = sun_circle.count('Пусть всегда')\n",
        "if liverpool_song > kids_song:\n",
        "  print(\"Больше слов _Let it be_ в песне ливерпульской четверки\")\n",
        "else:\n",
        "  print(\"Больше слов _Пусть всегда_ в детской песне\")\n",
        "print(liverpool_song)\n",
        "print(kids_song)\n",
        "print(abs(liverpool_song-kids_song))"
      ],
      "execution_count": 25,
      "outputs": [
        {
          "output_type": "stream",
          "name": "stdout",
          "text": [
            "Больше слов _Let it be_ в песне ливерпульской четверки\n",
            "41\n",
            "32\n",
            "9\n"
          ]
        }
      ]
    },
    {
      "cell_type": "markdown",
      "metadata": {
        "id": "_RpGCxj3mB_H"
      },
      "source": [
        "### Часть 3. Условия (5 баллов)"
      ]
    },
    {
      "cell_type": "markdown",
      "metadata": {
        "id": "gwBLQuKJmB_H"
      },
      "source": [
        "12. (1 балл) Дано целое число $x$. Проверить, является ли число положительным."
      ]
    },
    {
      "cell_type": "code",
      "metadata": {
        "id": "4rzLvWy_mB_H",
        "colab": {
          "base_uri": "https://localhost:8080/"
        },
        "outputId": "ef04b31a-a3a3-49ad-fd6f-294528021783"
      },
      "source": [
        "x = 8\n",
        "if x > 0:\n",
        "  print(\"positive\")\n",
        "if x < 0:\n",
        "  print(\"negative\")"
      ],
      "execution_count": 37,
      "outputs": [
        {
          "output_type": "stream",
          "name": "stdout",
          "text": [
            "positive\n"
          ]
        }
      ]
    },
    {
      "cell_type": "markdown",
      "metadata": {
        "id": "uFWvoRNEmB_I"
      },
      "source": [
        "13. (1 балл) Дано число $x$  типа `float` (с плавающей запятой). Проверить, является ли это число целым.\n",
        "\n",
        "_Hint: можно загуглить 'преобразование типов, python'_"
      ]
    },
    {
      "cell_type": "code",
      "metadata": {
        "id": "g2IM_prJmB_I",
        "colab": {
          "base_uri": "https://localhost:8080/"
        },
        "outputId": "bf278a46-8c36-4af6-98bb-af767727321b"
      },
      "source": [
        "x = float(input())\n",
        "print(x)\n",
        "if x is int:\n",
        "  print(False)\n",
        "else:\n",
        "  print(True)"
      ],
      "execution_count": 86,
      "outputs": [
        {
          "output_type": "stream",
          "name": "stdout",
          "text": [
            "7\n",
            "7.0\n",
            "True\n"
          ]
        }
      ]
    },
    {
      "cell_type": "markdown",
      "metadata": {
        "id": "vcZ6JpcVmB_I"
      },
      "source": [
        "14. (1 балл) Напишите программу, которая считывает два целых числа $a$ и $b$ и выводит наибольшее значение из них (c использованием условий)."
      ]
    },
    {
      "cell_type": "code",
      "metadata": {
        "id": "q048UQ-JmB_I",
        "colab": {
          "base_uri": "https://localhost:8080/"
        },
        "outputId": "c5d9d400-9891-4f58-e5bd-11f6d3918bd4"
      },
      "source": [
        "a = int(input())\n",
        "b = int(input())\n",
        "if a > b:\n",
        "  print(\"a is bigger\")\n",
        "if b > a:\n",
        "  print(\"b is bigger\")\n"
      ],
      "execution_count": 50,
      "outputs": [
        {
          "output_type": "stream",
          "name": "stdout",
          "text": [
            "9\n",
            "6\n",
            "a is bigger\n"
          ]
        }
      ]
    },
    {
      "cell_type": "markdown",
      "metadata": {
        "id": "K8VW6Bs0mB_I"
      },
      "source": [
        "15. (1 балл) Вася уехал учиться по обмену на один семестр в Италию. Единственный магазин в городе открыт с $6$ до $8$ утра и с $16$ до $17$ вечера (включительно). Вася не мог попасть в магазин уже несколько дней и страдает от голода. Он может прийти в магазин в $X$ часов. Если магазин открыт в $X$ часов, то выведите `True`, а если закрыт - выведите `False`."
      ]
    },
    {
      "cell_type": "code",
      "metadata": {
        "id": "Y48nxNQ0mB_I",
        "colab": {
          "base_uri": "https://localhost:8080/"
        },
        "outputId": "65562c43-8539-4153-fdc3-ae1c3dec6656"
      },
      "source": [
        "X = 19\n",
        "if 6 <= x <= 8:\n",
        "  print(True)\n",
        "elif 16 <= x <= 17:\n",
        "  print(True)\n",
        "else:\n",
        "  print(False)"
      ],
      "execution_count": 97,
      "outputs": [
        {
          "output_type": "stream",
          "name": "stdout",
          "text": [
            "False\n"
          ]
        }
      ]
    },
    {
      "cell_type": "markdown",
      "metadata": {
        "id": "-InnK0GLmB_J"
      },
      "source": [
        "16. (1 балл) Помогите Даше определить, является ли год с данным номером високосным. Если год является високосным, то выведите `YES`, иначе выведите `NO`. Напомним, что в соответствии с григорианским календарем, год является високосным, если его номер кратен 4, но не кратен 100, а также если он кратен 400."
      ]
    },
    {
      "cell_type": "code",
      "metadata": {
        "id": "SzzJTS-EmB_J",
        "colab": {
          "base_uri": "https://localhost:8080/"
        },
        "outputId": "68115881-6ef9-4ec5-d62a-ed079ac929b3"
      },
      "source": [
        "x = int(input())\n",
        "if ((x % 4 == 0) or (x % 100 != 0) and (x % 400 == 0)):\n",
        "  print(\"YES\")\n",
        "else:\n",
        "  print(\"NO\")"
      ],
      "execution_count": 96,
      "outputs": [
        {
          "output_type": "stream",
          "name": "stdout",
          "text": [
            "1996\n",
            "YES\n"
          ]
        }
      ]
    },
    {
      "cell_type": "markdown",
      "metadata": {
        "id": "f4mtffw3mB_J"
      },
      "source": [
        "### Часть 4. Циклы (6 баллов)"
      ]
    },
    {
      "cell_type": "markdown",
      "metadata": {
        "id": "pko9TzIXmB_J"
      },
      "source": [
        "17. (1 балл) Напишите бесконечный цикл (любой)"
      ]
    },
    {
      "cell_type": "code",
      "metadata": {
        "id": "gLKGsTa8mB_J"
      },
      "source": [
        ""
      ],
      "execution_count": null,
      "outputs": []
    },
    {
      "cell_type": "markdown",
      "metadata": {
        "id": "-h3ust4dmB_J"
      },
      "source": [
        "18. (1 балл) Вывести числа от 5 до 20"
      ]
    },
    {
      "cell_type": "code",
      "metadata": {
        "id": "KGbI7mlkmB_J"
      },
      "source": [
        "# your code here"
      ],
      "execution_count": null,
      "outputs": []
    },
    {
      "cell_type": "markdown",
      "metadata": {
        "id": "1qX2tNEdmB_J"
      },
      "source": [
        "19. (1 балл) Вывести все числа от 5 до 20 , кратные 3-м."
      ]
    },
    {
      "cell_type": "code",
      "metadata": {
        "id": "qtN2ECZpmB_K"
      },
      "source": [
        "# your code here"
      ],
      "execution_count": null,
      "outputs": []
    },
    {
      "cell_type": "markdown",
      "metadata": {
        "id": "Pfs3ZBuzmB_K"
      },
      "source": [
        "20. (1 балл) Найти сумму натуральных чисел от 0 до n включительно"
      ]
    },
    {
      "cell_type": "code",
      "metadata": {
        "id": "F933zbG6mB_K"
      },
      "source": [
        "n = 11\n",
        "\n",
        "# your code here"
      ],
      "execution_count": null,
      "outputs": []
    },
    {
      "cell_type": "markdown",
      "metadata": {
        "id": "Tejb6jdumB_K"
      },
      "source": [
        "21. (1 балл) Вводится последовательность цифр. Например `\"126543168714\"`. Найти самую большую цифру, сохранить в переменную `largest_number`, вывести ее значение на экран."
      ]
    },
    {
      "cell_type": "code",
      "metadata": {
        "id": "98j-rp2GmB_K"
      },
      "source": [
        "# your code here"
      ],
      "execution_count": null,
      "outputs": []
    },
    {
      "cell_type": "markdown",
      "metadata": {
        "id": "SfqQonqrmB_K"
      },
      "source": [
        "22. (1 балл) Пользователем вводится строка. Проверить, является ли строка палиндромом без использования срезов и списков (мы их еще не проходили). Записать ответ в булевом типе данных в переменную `is_palindrom`, вывести ее значение на экран."
      ]
    },
    {
      "cell_type": "code",
      "metadata": {
        "id": "kDbNY-bWmB_K"
      },
      "source": [
        "n = 5\n",
        "\n",
        "# your code here"
      ],
      "execution_count": null,
      "outputs": []
    },
    {
      "cell_type": "markdown",
      "metadata": {
        "id": "ykzOQoYamB_K"
      },
      "source": [
        "### Бонусное задание (2 балла):"
      ]
    },
    {
      "cell_type": "markdown",
      "metadata": {
        "id": "Ao9mr74YmB_L"
      },
      "source": [
        "23. (2 балла) \n",
        "\n",
        "В турецком языке все гласные делятся на:\n",
        "\n",
        "негубные:\n",
        "`non_labials = \"aıei\"`\n",
        "\n",
        "губные:\n",
        "`labials = \"ouöü\"`\n",
        "\n",
        "Суть закона гармонии гласных состоит в следующем: все гласные в слове должны быть из одного класса.\n",
        "\n",
        "Вводится слово. Проверьте, подчиняется ли данное слово закону гармонии гласных в турецком языке. Ответ (`True` или `False`) сохранить в переменную rule и вывести ее на экран.\n",
        "\n",
        "Примеры:\n",
        "\n",
        "yaşlıdı (True)\n",
        "\n",
        "yaşlıdü (False)\n",
        "\n",
        "üzgündü (True)\n",
        "\n",
        "üzgündi (False)"
      ]
    },
    {
      "cell_type": "code",
      "metadata": {
        "id": "uD52bBHAmB_L"
      },
      "source": [
        "# your code here"
      ],
      "execution_count": null,
      "outputs": []
    },
    {
      "cell_type": "markdown",
      "metadata": {
        "id": "Z1BkJELmmB_L"
      },
      "source": [
        "#### Напишите ниже вашу обратную связь по домашнему заданию в комментарии. \n",
        "\n",
        "#### Какие задания показались вам самыми сложными / простыми? Что понравилось, а что нет?"
      ]
    },
    {
      "cell_type": "code",
      "metadata": {
        "id": "PJD14Yp_mB_L"
      },
      "source": [
        ""
      ],
      "execution_count": null,
      "outputs": []
    }
  ]
}